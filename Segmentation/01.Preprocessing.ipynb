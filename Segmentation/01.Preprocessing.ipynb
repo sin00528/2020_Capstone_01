{
 "cells": [
  {
   "cell_type": "code",
   "execution_count": 1,
   "metadata": {},
   "outputs": [],
   "source": [
    "%matplotlib inline\n",
    "from pycocotools.coco import COCO\n",
    "import numpy as np\n",
    "import skimage.io as io\n",
    "import imageio\n",
    "import matplotlib.pyplot as plt\n",
    "import pylab\n",
    "from tqdm import tqdm_notebook\n",
    "import imageio.core.util\n",
    "import os\n",
    "import cv2\n",
    "\n",
    "# for multiprocessing\n",
    "from multiprocessing import Pool\n",
    "\n",
    "pylab.rcParams['figure.figsize'] = (8.0, 10.0)"
   ]
  },
  {
   "cell_type": "markdown",
   "metadata": {},
   "source": [
    "# 1. Setting Hyper-Params"
   ]
  },
  {
   "cell_type": "code",
   "execution_count": 2,
   "metadata": {},
   "outputs": [],
   "source": [
    "# Root Dir\n",
    "COCO_DIR = './COCO'"
   ]
  },
  {
   "cell_type": "code",
   "execution_count": 3,
   "metadata": {},
   "outputs": [],
   "source": [
    "# Train data dir\n",
    "TRAIN = 'train2017'\n",
    "TRAIN_ANN_FILE = COCO_DIR + '/annotations/instances_' + TRAIN + '.json'\n",
    "TRAIN_OUT_DIR = COCO_DIR + '/annotations/sementic_' + TRAIN + '/'"
   ]
  },
  {
   "cell_type": "code",
   "execution_count": 4,
   "metadata": {},
   "outputs": [],
   "source": [
    "# Val data dir\n",
    "VAL = 'val2017'\n",
    "VAL_ANN_FILE = COCO_DIR + '/annotations/instances_' + VAL + '.json'\n",
    "VAL_OUT_DIR = COCO_DIR + '/annotations/sementic_' + VAL + '/'"
   ]
  },
  {
   "cell_type": "code",
   "execution_count": 5,
   "metadata": {},
   "outputs": [],
   "source": [
    "# Warning ignore\n",
    "def ignore_warnings(*args, **kwargs):\n",
    "    pass\n",
    "\n",
    "imageio.core.util._precision_warn = ignore_warnings"
   ]
  },
  {
   "cell_type": "markdown",
   "metadata": {},
   "source": [
    "# 2.Train mask generate"
   ]
  },
  {
   "cell_type": "code",
   "execution_count": 6,
   "metadata": {},
   "outputs": [
    {
     "name": "stdout",
     "output_type": "stream",
     "text": [
      "loading annotations into memory...\n",
      "Done (t=10.44s)\n",
      "creating index...\n",
      "index created!\n"
     ]
    }
   ],
   "source": [
    "# initialize COCO api for instance annotations and caption annocations\n",
    "coco = COCO(TRAIN_ANN_FILE)"
   ]
  },
  {
   "cell_type": "code",
   "execution_count": 7,
   "metadata": {
    "scrolled": false
   },
   "outputs": [
    {
     "name": "stdout",
     "output_type": "stream",
     "text": [
      "COCO categories: \n",
      "person bicycle car motorcycle airplane bus train truck boat traffic light fire hydrant stop sign parking meter bench bird cat dog horse sheep cow elephant bear zebra giraffe backpack umbrella handbag tie suitcase frisbee skis snowboard sports ball kite baseball bat baseball glove skateboard surfboard tennis racket bottle wine glass cup fork knife spoon bowl banana apple sandwich orange broccoli carrot hot dog pizza donut cake chair couch potted plant bed dining table toilet tv laptop mouse remote keyboard cell phone microwave oven toaster sink refrigerator book clock vase scissors teddy bear hair drier toothbrush\n",
      "\n",
      "COCO supercategories: \n",
      "animal sports food vehicle electronic outdoor accessory indoor furniture person kitchen appliance\n"
     ]
    }
   ],
   "source": [
    "# display COCO categories and supercategories\n",
    "cats = coco.loadCats(coco.getCatIds())\n",
    "nms=[cat['name'] for cat in cats]\n",
    "print('COCO categories: \\n{}\\n'.format(' '.join(nms)))\n",
    "\n",
    "nms = set([cat['supercategory'] for cat in cats])\n",
    "print('COCO supercategories: \\n{}'.format(' '.join(nms)))"
   ]
  },
  {
   "cell_type": "code",
   "execution_count": 8,
   "metadata": {},
   "outputs": [],
   "source": [
    "def trainAnns(idx):\n",
    "    ids = coco.getImgIds()[idx]\n",
    "    catids = coco.getCatIds()\n",
    "    imgIds = coco.getImgIds(imgIds = ids)\n",
    "    img = coco.loadImgs(imgIds[np.random.randint(0,len(imgIds))])[0]\n",
    "    I = io.imread(COCO_DIR + '/' + TRAIN + '/' +img['file_name']).astype(np.uint8)\n",
    "    \n",
    "    anns_ids = coco.getAnnIds(imgIds=img['id'], catIds=catids, iscrowd=None)\n",
    "    anns = coco.loadAnns(anns_ids)\n",
    "    anns_img = np.zeros((img['height'],img['width']))\n",
    "    \n",
    "    for ann in anns:\n",
    "        anns_img = np.maximum(anns_img, coco.annToMask(ann)*ann['category_id'])\n",
    "        \n",
    "    #io.imshow(anns_img, cmap='gray');\n",
    "    #io.imsave(TRAIN_OUT_DIR+'{0:0>12}.png'.format(img['id']), anns_img, check_contrast=False)\n",
    "    #imageio.imwrite(TRAIN_OUT_DIR+'{0:0>12}.png'.format(img['id']), anns_img)\n",
    "    cv2.imwrite(TRAIN_OUT_DIR+'{0:0>12}.png'.format(img['id']), anns_img)"
   ]
  },
  {
   "cell_type": "code",
   "execution_count": 9,
   "metadata": {},
   "outputs": [
    {
     "data": {
      "application/vnd.jupyter.widget-view+json": {
       "model_id": "c64d0baec19b4a558f070a777a383ea8",
       "version_major": 2,
       "version_minor": 0
      },
      "text/plain": [
       "HBox(children=(IntProgress(value=0, max=118287), HTML(value='')))"
      ]
     },
     "metadata": {},
     "output_type": "display_data"
    },
    {
     "data": {
      "application/vnd.jupyter.widget-view+json": {
       "model_id": "71897cd8f3e34edcbc379c618d8aecd6",
       "version_major": 2,
       "version_minor": 0
      },
      "text/plain": [
       "HBox(children=(IntProgress(value=1, bar_style='info', max=1), HTML(value='')))"
      ]
     },
     "metadata": {},
     "output_type": "display_data"
    },
    {
     "name": "stdout",
     "output_type": "stream",
     "text": [
      "\n"
     ]
    }
   ],
   "source": [
    "# RUN on imageio==2.8.0\n",
    "with Pool(processes=32) as p:\n",
    "    max_ = len(coco.getImgIds())\n",
    "    with tqdm_notebook(total=max_) as pbar:\n",
    "        for i, _ in tqdm_notebook(enumerate(p.imap_unordered(trainAnns, range(max_)))):\n",
    "            pbar.update()"
   ]
  },
  {
   "cell_type": "markdown",
   "metadata": {},
   "source": [
    "# 3.Validation mask generate"
   ]
  },
  {
   "cell_type": "code",
   "execution_count": 10,
   "metadata": {},
   "outputs": [
    {
     "name": "stdout",
     "output_type": "stream",
     "text": [
      "loading annotations into memory...\n",
      "Done (t=1.09s)\n",
      "creating index...\n",
      "index created!\n"
     ]
    }
   ],
   "source": [
    "# initialize COCO api for instance annotations and caption annocations\n",
    "coco = COCO(VAL_ANN_FILE)"
   ]
  },
  {
   "cell_type": "code",
   "execution_count": 11,
   "metadata": {},
   "outputs": [
    {
     "name": "stdout",
     "output_type": "stream",
     "text": [
      "COCO categories: \n",
      "person bicycle car motorcycle airplane bus train truck boat traffic light fire hydrant stop sign parking meter bench bird cat dog horse sheep cow elephant bear zebra giraffe backpack umbrella handbag tie suitcase frisbee skis snowboard sports ball kite baseball bat baseball glove skateboard surfboard tennis racket bottle wine glass cup fork knife spoon bowl banana apple sandwich orange broccoli carrot hot dog pizza donut cake chair couch potted plant bed dining table toilet tv laptop mouse remote keyboard cell phone microwave oven toaster sink refrigerator book clock vase scissors teddy bear hair drier toothbrush\n",
      "\n",
      "COCO supercategories: \n",
      "animal sports food vehicle electronic outdoor accessory indoor furniture person kitchen appliance\n"
     ]
    }
   ],
   "source": [
    "# display COCO categories and supercategories\n",
    "cats = coco.loadCats(coco.getCatIds())\n",
    "nms=[cat['name'] for cat in cats]\n",
    "print('COCO categories: \\n{}\\n'.format(' '.join(nms)))\n",
    "\n",
    "nms = set([cat['supercategory'] for cat in cats])\n",
    "print('COCO supercategories: \\n{}'.format(' '.join(nms)))"
   ]
  },
  {
   "cell_type": "code",
   "execution_count": 12,
   "metadata": {},
   "outputs": [],
   "source": [
    "def valAnns(idx):\n",
    "    ids = coco.getImgIds()[idx]\n",
    "    catids = coco.getCatIds()\n",
    "    imgIds = coco.getImgIds(imgIds = ids)\n",
    "    img = coco.loadImgs(imgIds[np.random.randint(0,len(imgIds))])[0]\n",
    "    I = io.imread(COCO_DIR + '/' + VAL + '/' +img['file_name']).astype(np.uint8)\n",
    "\n",
    "    anns_ids = coco.getAnnIds(imgIds=img['id'], catIds=catids, iscrowd=None)\n",
    "    anns = coco.loadAnns(anns_ids)\n",
    "    anns_img = np.zeros((img['height'],img['width']))\n",
    "    \n",
    "    for ann in anns:\n",
    "        anns_img = np.maximum(anns_img, coco.annToMask(ann)*ann['category_id'])\n",
    "    \n",
    "    #io.imshow(anns_img, cmap='gray');\n",
    "    #io.imsave(VAL_OUT_DIR+'{0:0>12}.png'.format(img['id']), anns_img, check_contrast=False)\n",
    "    #imageio.imwrite(VAL_OUT_DIR+'{0:0>12}.png'.format(img['id']), anns_img)\n",
    "    cv2.imwrite(VAL_OUT_DIR+'{0:0>12}.png'.format(img['id']), anns_img)"
   ]
  },
  {
   "cell_type": "code",
   "execution_count": 13,
   "metadata": {},
   "outputs": [
    {
     "data": {
      "application/vnd.jupyter.widget-view+json": {
       "model_id": "9376e0ade1214f32a97091305df287d3",
       "version_major": 2,
       "version_minor": 0
      },
      "text/plain": [
       "HBox(children=(IntProgress(value=0, max=5000), HTML(value='')))"
      ]
     },
     "metadata": {},
     "output_type": "display_data"
    },
    {
     "data": {
      "application/vnd.jupyter.widget-view+json": {
       "model_id": "c59c28ac40af47d38f9c54ede8fdfcd0",
       "version_major": 2,
       "version_minor": 0
      },
      "text/plain": [
       "HBox(children=(IntProgress(value=1, bar_style='info', max=1), HTML(value='')))"
      ]
     },
     "metadata": {},
     "output_type": "display_data"
    },
    {
     "name": "stdout",
     "output_type": "stream",
     "text": [
      "\n"
     ]
    }
   ],
   "source": [
    "# RUN on imageio==2.8.0\n",
    "with Pool(processes=32) as p:\n",
    "    max_ = len(coco.getImgIds())\n",
    "    with tqdm_notebook(total=max_) as pbar:\n",
    "        for i, _ in tqdm_notebook(enumerate(p.imap_unordered(valAnns, range(max_)))):\n",
    "            pbar.update()"
   ]
  },
  {
   "cell_type": "code",
   "execution_count": 14,
   "metadata": {},
   "outputs": [],
   "source": [
    "#from discord_webhook import DiscordWebhook\n",
    "#url = 'https://discordapp.com/api/webhooks/710208007618822145/4yUFIEoTa7kZFOhyJpSkalNn2NysrM6p5PFVG5iBDkt1ikJxBPwV3_J4FDYi40THgxvl'\n",
    "#webhook = DiscordWebhook(url=url, content='segment generation completed...')\n",
    "#response = webhook.execute()"
   ]
  },
  {
   "cell_type": "code",
   "execution_count": null,
   "metadata": {},
   "outputs": [],
   "source": []
  }
 ],
 "metadata": {
  "kernelspec": {
   "display_name": "Python 3",
   "language": "python",
   "name": "python3"
  },
  "language_info": {
   "codemirror_mode": {
    "name": "ipython",
    "version": 3
   },
   "file_extension": ".py",
   "mimetype": "text/x-python",
   "name": "python",
   "nbconvert_exporter": "python",
   "pygments_lexer": "ipython3",
   "version": "3.6.9"
  }
 },
 "nbformat": 4,
 "nbformat_minor": 2
}
