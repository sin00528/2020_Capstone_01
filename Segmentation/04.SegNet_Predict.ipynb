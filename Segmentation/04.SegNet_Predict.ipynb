{
 "cells": [
  {
   "cell_type": "code",
   "execution_count": 5,
   "metadata": {},
   "outputs": [],
   "source": [
    "from keras import Model\n",
    "from keras.layers import Input\n",
    "from keras.layers.core import Activation, Reshape, Permute\n",
    "from keras.layers.convolutional import Conv2D, MaxPooling2D, UpSampling2D\n",
    "from keras.layers.normalization import BatchNormalization\n",
    "from keras.optimizers import SGD\n",
    "from keras.utils import plot_model\n",
    "\n",
    "import keras_segmentation\n",
    "from keras_segmentation.predict import predict\n",
    "from keras_segmentation.models.segnet import vgg_segnet"
   ]
  },
  {
   "cell_type": "code",
   "execution_count": 6,
   "metadata": {},
   "outputs": [],
   "source": [
    "dataDir='./COCO'\n",
    "dataType='train2017'\n",
    "\n",
    "trainImgs = \"COCO/train2017/\"\n",
    "valImgs = \"COCO/val2017/\"\n",
    "\n",
    "ckPtDir = \"log/segnet\"\n",
    "plotDir = \"log/plot\"\n",
    "\n",
    "segTrainOutDir = 'COCO/segTrain2017'\n",
    "segValOutDir = 'COCO/segVal2017'"
   ]
  },
  {
   "cell_type": "code",
   "execution_count": 7,
   "metadata": {},
   "outputs": [],
   "source": [
    "model = vgg_segnet(n_classes=91, input_height=416, input_width=608, encoder_level=3)\n",
    "model.load_weights(ckPtDir + \"/vgg_segnet.199\")"
   ]
  },
  {
   "cell_type": "code",
   "execution_count": 8,
   "metadata": {},
   "outputs": [],
   "source": [
    "# not using overlay\n",
    "#out = model.predict_segmentation(inp = 'gen/Inputs/test.png', out_fname = 'gen/Outputs/test_out.png')\n",
    "\n",
    "# using overlay\n",
    "out = model.predict_segmentation(model, overlay_img=False, inp = 'gen/Inputs/test.png', out_fname = 'gen/Outputs/test_out.png')"
   ]
  },
  {
   "cell_type": "code",
   "execution_count": null,
   "metadata": {},
   "outputs": [],
   "source": []
  }
 ],
 "metadata": {
  "kernelspec": {
   "display_name": "Python 3",
   "language": "python",
   "name": "python3"
  },
  "language_info": {
   "codemirror_mode": {
    "name": "ipython",
    "version": 3
   },
   "file_extension": ".py",
   "mimetype": "text/x-python",
   "name": "python",
   "nbconvert_exporter": "python",
   "pygments_lexer": "ipython3",
   "version": "3.6.9"
  }
 },
 "nbformat": 4,
 "nbformat_minor": 4
}
