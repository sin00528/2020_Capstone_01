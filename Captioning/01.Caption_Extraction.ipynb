{
 "cells": [
  {
   "cell_type": "code",
   "execution_count": 1,
   "metadata": {},
   "outputs": [],
   "source": [
    "from pycocotools.coco import COCO\n",
    "import numpy as np\n",
    "from tqdm import tqdm_notebook\n",
    "import pandas as pd\n",
    "import json\n",
    "\n",
    "# for multiprocessing\n",
    "from multiprocessing import Pool"
   ]
  },
  {
   "cell_type": "code",
   "execution_count": 2,
   "metadata": {},
   "outputs": [],
   "source": [
    "# Root Dir\n",
    "COCO_DIR = './COCO'"
   ]
  },
  {
   "cell_type": "code",
   "execution_count": 3,
   "metadata": {},
   "outputs": [],
   "source": [
    "# Train data dir\n",
    "TRAIN = 'train2017'\n",
    "TRAIN_CAP_ANN_FILE = COCO_DIR + '/annotations/captions_' + TRAIN + '.json'"
   ]
  },
  {
   "cell_type": "code",
   "execution_count": 4,
   "metadata": {},
   "outputs": [],
   "source": [
    "# Val data dir\n",
    "VAL = 'val2017'\n",
    "VAL_CAP_ANN_FILE = COCO_DIR + '/annotations/captions_' + VAL + '.json'"
   ]
  },
  {
   "cell_type": "markdown",
   "metadata": {},
   "source": [
    "# 01.Extract train caption"
   ]
  },
  {
   "cell_type": "code",
   "execution_count": 5,
   "metadata": {},
   "outputs": [
    {
     "name": "stdout",
     "output_type": "stream",
     "text": [
      "loading annotations into memory...\n",
      "Done (t=0.83s)\n",
      "creating index...\n",
      "index created!\n"
     ]
    }
   ],
   "source": [
    "coco_caps = COCO(TRAIN_CAP_ANN_FILE)"
   ]
  },
  {
   "cell_type": "code",
   "execution_count": 6,
   "metadata": {},
   "outputs": [
    {
     "name": "stdout",
     "output_type": "stream",
     "text": [
      "A man with a red helmet on a small moped on a dirt road. \n",
      "Man riding a motor bike on a dirt road on the countryside.\n",
      "A man riding on the back of a motorcycle.\n",
      "A dirt path with a young person on a motor bike rests to the foreground of a verdant area with a bridge and a background of cloud-wreathed mountains. \n",
      "A man in a red shirt and a red hat is on a motorcycle on a hill side.\n"
     ]
    }
   ],
   "source": [
    "# load and display caption annotations\n",
    "ids = coco_caps.getImgIds()[0]\n",
    "capsAnnIds = coco_caps.getAnnIds(imgIds=ids)\n",
    "capsAnns = coco_caps.loadAnns(capsAnnIds)\n",
    "coco_caps.showAnns(capsAnns)"
   ]
  },
  {
   "cell_type": "code",
   "execution_count": 7,
   "metadata": {},
   "outputs": [
    {
     "data": {
      "text/html": [
       "<div>\n",
       "<style scoped>\n",
       "    .dataframe tbody tr th:only-of-type {\n",
       "        vertical-align: middle;\n",
       "    }\n",
       "\n",
       "    .dataframe tbody tr th {\n",
       "        vertical-align: top;\n",
       "    }\n",
       "\n",
       "    .dataframe thead th {\n",
       "        text-align: right;\n",
       "    }\n",
       "</style>\n",
       "<table border=\"1\" class=\"dataframe\">\n",
       "  <thead>\n",
       "    <tr style=\"text-align: right;\">\n",
       "      <th></th>\n",
       "      <th>image_id</th>\n",
       "      <th>id</th>\n",
       "      <th>caption</th>\n",
       "    </tr>\n",
       "  </thead>\n",
       "  <tbody>\n",
       "  </tbody>\n",
       "</table>\n",
       "</div>"
      ],
      "text/plain": [
       "Empty DataFrame\n",
       "Columns: [image_id, id, caption]\n",
       "Index: []"
      ]
     },
     "execution_count": 7,
     "metadata": {},
     "output_type": "execute_result"
    }
   ],
   "source": [
    "captions = pd.DataFrame(columns=['image_id', 'id', 'caption'])\n",
    "captions"
   ]
  },
  {
   "cell_type": "code",
   "execution_count": 8,
   "metadata": {},
   "outputs": [
    {
     "data": {
      "application/vnd.jupyter.widget-view+json": {
       "model_id": "caffc82e33b5427fa2237de4e6361117",
       "version_major": 2,
       "version_minor": 0
      },
      "text/plain": [
       "HBox(children=(IntProgress(value=0, max=118287), HTML(value='')))"
      ]
     },
     "metadata": {},
     "output_type": "display_data"
    },
    {
     "name": "stdout",
     "output_type": "stream",
     "text": [
      "\n"
     ]
    }
   ],
   "source": [
    "for idx in tqdm_notebook(range(len(coco_caps.getImgIds()))):\n",
    "    ids = coco_caps.getImgIds()[idx]\n",
    "    capsAnnIds = coco_caps.getAnnIds(imgIds=ids);\n",
    "    capsAnns = coco_caps.loadAnns(capsAnnIds)\n",
    "    captions = captions.append(capsAnns, ignore_index=True)"
   ]
  },
  {
   "cell_type": "code",
   "execution_count": 9,
   "metadata": {},
   "outputs": [
    {
     "data": {
      "text/html": [
       "<div>\n",
       "<style scoped>\n",
       "    .dataframe tbody tr th:only-of-type {\n",
       "        vertical-align: middle;\n",
       "    }\n",
       "\n",
       "    .dataframe tbody tr th {\n",
       "        vertical-align: top;\n",
       "    }\n",
       "\n",
       "    .dataframe thead th {\n",
       "        text-align: right;\n",
       "    }\n",
       "</style>\n",
       "<table border=\"1\" class=\"dataframe\">\n",
       "  <thead>\n",
       "    <tr style=\"text-align: right;\">\n",
       "      <th></th>\n",
       "      <th>image_id</th>\n",
       "      <th>id</th>\n",
       "      <th>caption</th>\n",
       "    </tr>\n",
       "  </thead>\n",
       "  <tbody>\n",
       "    <tr>\n",
       "      <th>0</th>\n",
       "      <td>391895</td>\n",
       "      <td>770337</td>\n",
       "      <td>A man with a red helmet on a small moped on a ...</td>\n",
       "    </tr>\n",
       "    <tr>\n",
       "      <th>1</th>\n",
       "      <td>391895</td>\n",
       "      <td>771687</td>\n",
       "      <td>Man riding a motor bike on a dirt road on the ...</td>\n",
       "    </tr>\n",
       "    <tr>\n",
       "      <th>2</th>\n",
       "      <td>391895</td>\n",
       "      <td>772707</td>\n",
       "      <td>A man riding on the back of a motorcycle.</td>\n",
       "    </tr>\n",
       "    <tr>\n",
       "      <th>3</th>\n",
       "      <td>391895</td>\n",
       "      <td>776154</td>\n",
       "      <td>A dirt path with a young person on a motor bik...</td>\n",
       "    </tr>\n",
       "    <tr>\n",
       "      <th>4</th>\n",
       "      <td>391895</td>\n",
       "      <td>781998</td>\n",
       "      <td>A man in a red shirt and a red hat is on a mot...</td>\n",
       "    </tr>\n",
       "    <tr>\n",
       "      <th>...</th>\n",
       "      <td>...</td>\n",
       "      <td>...</td>\n",
       "      <td>...</td>\n",
       "    </tr>\n",
       "    <tr>\n",
       "      <th>591748</th>\n",
       "      <td>475546</td>\n",
       "      <td>283</td>\n",
       "      <td>The patrons enjoy their beverages at the bar.</td>\n",
       "    </tr>\n",
       "    <tr>\n",
       "      <th>591749</th>\n",
       "      <td>475546</td>\n",
       "      <td>5620</td>\n",
       "      <td>People having a drink in a basement bar.</td>\n",
       "    </tr>\n",
       "    <tr>\n",
       "      <th>591750</th>\n",
       "      <td>475546</td>\n",
       "      <td>5716</td>\n",
       "      <td>A group of friends enjoys a drink while sittin...</td>\n",
       "    </tr>\n",
       "    <tr>\n",
       "      <th>591751</th>\n",
       "      <td>475546</td>\n",
       "      <td>8002</td>\n",
       "      <td>Group of people drinking wine at a public loca...</td>\n",
       "    </tr>\n",
       "    <tr>\n",
       "      <th>591752</th>\n",
       "      <td>475546</td>\n",
       "      <td>9277</td>\n",
       "      <td>Three women and a man are sitting at a bar</td>\n",
       "    </tr>\n",
       "  </tbody>\n",
       "</table>\n",
       "<p>591753 rows × 3 columns</p>\n",
       "</div>"
      ],
      "text/plain": [
       "       image_id      id                                            caption\n",
       "0        391895  770337  A man with a red helmet on a small moped on a ...\n",
       "1        391895  771687  Man riding a motor bike on a dirt road on the ...\n",
       "2        391895  772707          A man riding on the back of a motorcycle.\n",
       "3        391895  776154  A dirt path with a young person on a motor bik...\n",
       "4        391895  781998  A man in a red shirt and a red hat is on a mot...\n",
       "...         ...     ...                                                ...\n",
       "591748   475546     283      The patrons enjoy their beverages at the bar.\n",
       "591749   475546    5620           People having a drink in a basement bar.\n",
       "591750   475546    5716  A group of friends enjoys a drink while sittin...\n",
       "591751   475546    8002  Group of people drinking wine at a public loca...\n",
       "591752   475546    9277         Three women and a man are sitting at a bar\n",
       "\n",
       "[591753 rows x 3 columns]"
      ]
     },
     "execution_count": 9,
     "metadata": {},
     "output_type": "execute_result"
    }
   ],
   "source": [
    "captions"
   ]
  },
  {
   "cell_type": "code",
   "execution_count": 10,
   "metadata": {},
   "outputs": [],
   "source": [
    "captions.to_csv('COCO/annotations/captions_train2017.csv')"
   ]
  },
  {
   "cell_type": "markdown",
   "metadata": {},
   "source": [
    "# 02.Extract val caption"
   ]
  },
  {
   "cell_type": "code",
   "execution_count": 11,
   "metadata": {},
   "outputs": [
    {
     "name": "stdout",
     "output_type": "stream",
     "text": [
      "loading annotations into memory...\n",
      "Done (t=0.03s)\n",
      "creating index...\n",
      "index created!\n"
     ]
    }
   ],
   "source": [
    "coco_caps = COCO(VAL_CAP_ANN_FILE)"
   ]
  },
  {
   "cell_type": "code",
   "execution_count": 12,
   "metadata": {},
   "outputs": [
    {
     "name": "stdout",
     "output_type": "stream",
     "text": [
      "A man is in a kitchen making pizzas.\n",
      "Man in apron standing on front of oven with pans and bakeware\n",
      "A baker is working in the kitchen rolling dough.\n",
      "A person standing by a stove in a kitchen.\n",
      "A table with pies being made and a person standing near a wall with pots and pans hanging on the wall.\n"
     ]
    }
   ],
   "source": [
    "# load and display caption annotations\n",
    "ids = coco_caps.getImgIds()[0]\n",
    "capsAnnIds = coco_caps.getAnnIds(imgIds=ids)\n",
    "capsAnns = coco_caps.loadAnns(capsAnnIds)\n",
    "coco_caps.showAnns(capsAnns)"
   ]
  },
  {
   "cell_type": "code",
   "execution_count": 13,
   "metadata": {},
   "outputs": [
    {
     "data": {
      "text/html": [
       "<div>\n",
       "<style scoped>\n",
       "    .dataframe tbody tr th:only-of-type {\n",
       "        vertical-align: middle;\n",
       "    }\n",
       "\n",
       "    .dataframe tbody tr th {\n",
       "        vertical-align: top;\n",
       "    }\n",
       "\n",
       "    .dataframe thead th {\n",
       "        text-align: right;\n",
       "    }\n",
       "</style>\n",
       "<table border=\"1\" class=\"dataframe\">\n",
       "  <thead>\n",
       "    <tr style=\"text-align: right;\">\n",
       "      <th></th>\n",
       "      <th>image_id</th>\n",
       "      <th>id</th>\n",
       "      <th>caption</th>\n",
       "    </tr>\n",
       "  </thead>\n",
       "  <tbody>\n",
       "  </tbody>\n",
       "</table>\n",
       "</div>"
      ],
      "text/plain": [
       "Empty DataFrame\n",
       "Columns: [image_id, id, caption]\n",
       "Index: []"
      ]
     },
     "execution_count": 13,
     "metadata": {},
     "output_type": "execute_result"
    }
   ],
   "source": [
    "captions = pd.DataFrame(columns=['image_id', 'id', 'caption'])\n",
    "captions"
   ]
  },
  {
   "cell_type": "code",
   "execution_count": 14,
   "metadata": {},
   "outputs": [
    {
     "data": {
      "application/vnd.jupyter.widget-view+json": {
       "model_id": "85932a945c714a679a23ebe3426618fe",
       "version_major": 2,
       "version_minor": 0
      },
      "text/plain": [
       "HBox(children=(IntProgress(value=0, max=5000), HTML(value='')))"
      ]
     },
     "metadata": {},
     "output_type": "display_data"
    },
    {
     "name": "stdout",
     "output_type": "stream",
     "text": [
      "\n"
     ]
    }
   ],
   "source": [
    "for idx in tqdm_notebook(range(len(coco_caps.getImgIds()))):\n",
    "    ids = coco_caps.getImgIds()[idx]\n",
    "    capsAnnIds = coco_caps.getAnnIds(imgIds=ids)\n",
    "    capsAnns = coco_caps.loadAnns(capsAnnIds)\n",
    "    captions = captions.append(capsAnns, ignore_index=True)"
   ]
  },
  {
   "cell_type": "code",
   "execution_count": 15,
   "metadata": {
    "scrolled": false
   },
   "outputs": [
    {
     "data": {
      "text/html": [
       "<div>\n",
       "<style scoped>\n",
       "    .dataframe tbody tr th:only-of-type {\n",
       "        vertical-align: middle;\n",
       "    }\n",
       "\n",
       "    .dataframe tbody tr th {\n",
       "        vertical-align: top;\n",
       "    }\n",
       "\n",
       "    .dataframe thead th {\n",
       "        text-align: right;\n",
       "    }\n",
       "</style>\n",
       "<table border=\"1\" class=\"dataframe\">\n",
       "  <thead>\n",
       "    <tr style=\"text-align: right;\">\n",
       "      <th></th>\n",
       "      <th>image_id</th>\n",
       "      <th>id</th>\n",
       "      <th>caption</th>\n",
       "    </tr>\n",
       "  </thead>\n",
       "  <tbody>\n",
       "    <tr>\n",
       "      <th>0</th>\n",
       "      <td>397133</td>\n",
       "      <td>370509</td>\n",
       "      <td>A man is in a kitchen making pizzas.</td>\n",
       "    </tr>\n",
       "    <tr>\n",
       "      <th>1</th>\n",
       "      <td>397133</td>\n",
       "      <td>370584</td>\n",
       "      <td>Man in apron standing on front of oven with pa...</td>\n",
       "    </tr>\n",
       "    <tr>\n",
       "      <th>2</th>\n",
       "      <td>397133</td>\n",
       "      <td>372252</td>\n",
       "      <td>A baker is working in the kitchen rolling dough.</td>\n",
       "    </tr>\n",
       "    <tr>\n",
       "      <th>3</th>\n",
       "      <td>397133</td>\n",
       "      <td>372765</td>\n",
       "      <td>A person standing by a stove in a kitchen.</td>\n",
       "    </tr>\n",
       "    <tr>\n",
       "      <th>4</th>\n",
       "      <td>397133</td>\n",
       "      <td>375891</td>\n",
       "      <td>A table with pies being made and a person stan...</td>\n",
       "    </tr>\n",
       "    <tr>\n",
       "      <th>...</th>\n",
       "      <td>...</td>\n",
       "      <td>...</td>\n",
       "      <td>...</td>\n",
       "    </tr>\n",
       "    <tr>\n",
       "      <th>25009</th>\n",
       "      <td>15335</td>\n",
       "      <td>505078</td>\n",
       "      <td>A group of people sitting at a table with food.</td>\n",
       "    </tr>\n",
       "    <tr>\n",
       "      <th>25010</th>\n",
       "      <td>15335</td>\n",
       "      <td>505954</td>\n",
       "      <td>A man, woman, and boy are sitting at a table.</td>\n",
       "    </tr>\n",
       "    <tr>\n",
       "      <th>25011</th>\n",
       "      <td>15335</td>\n",
       "      <td>505978</td>\n",
       "      <td>A man, woman and child eating together at a re...</td>\n",
       "    </tr>\n",
       "    <tr>\n",
       "      <th>25012</th>\n",
       "      <td>15335</td>\n",
       "      <td>507940</td>\n",
       "      <td>A boy sitting between a man and a woman.</td>\n",
       "    </tr>\n",
       "    <tr>\n",
       "      <th>25013</th>\n",
       "      <td>15335</td>\n",
       "      <td>509731</td>\n",
       "      <td>a young child, lady , and man sitting in a boo...</td>\n",
       "    </tr>\n",
       "  </tbody>\n",
       "</table>\n",
       "<p>25014 rows × 3 columns</p>\n",
       "</div>"
      ],
      "text/plain": [
       "      image_id      id                                            caption\n",
       "0       397133  370509               A man is in a kitchen making pizzas.\n",
       "1       397133  370584  Man in apron standing on front of oven with pa...\n",
       "2       397133  372252   A baker is working in the kitchen rolling dough.\n",
       "3       397133  372765         A person standing by a stove in a kitchen.\n",
       "4       397133  375891  A table with pies being made and a person stan...\n",
       "...        ...     ...                                                ...\n",
       "25009    15335  505078    A group of people sitting at a table with food.\n",
       "25010    15335  505954      A man, woman, and boy are sitting at a table.\n",
       "25011    15335  505978  A man, woman and child eating together at a re...\n",
       "25012    15335  507940           A boy sitting between a man and a woman.\n",
       "25013    15335  509731  a young child, lady , and man sitting in a boo...\n",
       "\n",
       "[25014 rows x 3 columns]"
      ]
     },
     "execution_count": 15,
     "metadata": {},
     "output_type": "execute_result"
    }
   ],
   "source": [
    "captions"
   ]
  },
  {
   "cell_type": "code",
   "execution_count": 16,
   "metadata": {},
   "outputs": [],
   "source": [
    "captions.to_csv('COCO/annotations/captions_val2017.csv')"
   ]
  }
 ],
 "metadata": {
  "kernelspec": {
   "display_name": "Python 3",
   "language": "python",
   "name": "python3"
  },
  "language_info": {
   "codemirror_mode": {
    "name": "ipython",
    "version": 3
   },
   "file_extension": ".py",
   "mimetype": "text/x-python",
   "name": "python",
   "nbconvert_exporter": "python",
   "pygments_lexer": "ipython3",
   "version": "3.6.9"
  }
 },
 "nbformat": 4,
 "nbformat_minor": 4
}
